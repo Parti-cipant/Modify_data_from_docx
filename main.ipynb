{
 "cells": [
  {
   "cell_type": "code",
   "execution_count": 22,
   "metadata": {},
   "outputs": [
    {
     "name": "stdout",
     "output_type": "stream",
     "text": [
      "3\n"
     ]
    }
   ],
   "source": [
    "import docx \n",
    "docc = docx.Document('./data.docx')\n",
    "print(len(docc.paragraphs))"
   ]
  },
  {
   "cell_type": "code",
   "execution_count": 45,
   "metadata": {},
   "outputs": [
    {
     "name": "stdout",
     "output_type": "stream",
     "text": [
      "[('Lambert', '12'), ('Julie', '15'), ('Matthew', '18')]\n"
     ]
    }
   ],
   "source": [
    "namelist = []\n",
    "for data in docc.paragraphs:\n",
    "    namelist.append((data.text.rsplit(' ')[0], data.text.rsplit(' ')[1]))\n",
    "print(namelist)"
   ]
  },
  {
   "cell_type": "code",
   "execution_count": 31,
   "metadata": {},
   "outputs": [
    {
     "data": {
      "text/plain": [
       "'Julie 15'"
      ]
     },
     "execution_count": 31,
     "metadata": {},
     "output_type": "execute_result"
    }
   ],
   "source": [
    "docc.paragraphs[1].text"
   ]
  },
  {
   "cell_type": "code",
   "execution_count": 54,
   "metadata": {},
   "outputs": [
    {
     "name": "stdout",
     "output_type": "stream",
     "text": [
      "12\n",
      "15\n",
      "18\n"
     ]
    }
   ],
   "source": [
    "import openpyxl\n",
    "wb = openpyxl.open('./data.xlsx')\n",
    "ws = wb.active\n",
    "for adjust_object in namelist:\n",
    "    for row in range(1, 4):\n",
    "            cell = ws.cell(row, 1)\n",
    "            \n",
    "            if cell.value == adjust_object[0]:\n",
    "                ws.cell(row, column=2).value = adjust_object[1]\n",
    "                print(ws.cell(row, column=2).value)\n",
    "\n",
    "wb.save(\"./modified_data.xlsx\")"
   ]
  }
 ],
 "metadata": {
  "kernelspec": {
   "display_name": "Python 3",
   "language": "python",
   "name": "python3"
  },
  "language_info": {
   "codemirror_mode": {
    "name": "ipython",
    "version": 3
   },
   "file_extension": ".py",
   "mimetype": "text/x-python",
   "name": "python",
   "nbconvert_exporter": "python",
   "pygments_lexer": "ipython3",
   "version": "3.10.12"
  },
  "orig_nbformat": 4
 },
 "nbformat": 4,
 "nbformat_minor": 2
}
